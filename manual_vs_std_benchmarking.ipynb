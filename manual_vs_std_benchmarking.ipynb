{
 "cells": [
  {
   "cell_type": "code",
   "execution_count": 19,
   "id": "6b7369ea-6cd2-477d-8f77-9726beb8d374",
   "metadata": {},
   "outputs": [],
   "source": [
    "import numpy as np\n",
    "import pandas as pd\n",
    "import time\n",
    "from sklearn.decomposition import PCA\n",
    "np.random.seed(42)"
   ]
  },
  {
   "cell_type": "code",
   "execution_count": 20,
   "id": "942b7db8-3580-40a0-abde-20a43ae01532",
   "metadata": {},
   "outputs": [],
   "source": [
    "# function to generate synthetic stock data with broad market trend + sector trend + stock specific noise.\n",
    "def generate_random_stock_data(num_stocks = 50, num_days = 1000, num_sectors = 5):\n",
    "\n",
    "    market_trend = np.cumsum(np.random.normal(0,0.5,num_days))\n",
    "    sector_trend = {i:np.cumsum(np.random.normal(0,0.3,num_days)) for i in range(num_sectors)}\n",
    "    stock_specific = np.random.normal(0,0.2,(num_days,num_stocks))\n",
    "\n",
    "    stock_sector_mapping = np.random.choice(range(num_sectors),num_stocks)\n",
    "\n",
    "    stock_data = np.zeros((num_days,num_stocks))\n",
    "\n",
    "    for i in range(num_stocks):\n",
    "        stock_data[:,i] = 0.5*market_trend + 0.3*sector_trend[stock_sector_mapping[i]] + 0.2*stock_specific[:,i]\n",
    "\n",
    "    stock_df = pd.DataFrame(stock_data, columns = [f'Stock_{i+1}' for i in range(num_stocks)])\n",
    "    stock_df.index = pd.date_range(start = '2015-01-01', periods = num_days, freq = 'D')\n",
    "\n",
    "    return stock_df"
   ]
  },
  {
   "cell_type": "code",
   "execution_count": 21,
   "id": "d7651eef-1cb6-4240-a651-f4bef2d2fb68",
   "metadata": {},
   "outputs": [],
   "source": [
    "data = generate_random_stock_data()"
   ]
  },
  {
   "cell_type": "code",
   "execution_count": 22,
   "id": "1eb83451-7cbc-4fac-a917-1aefc45ef915",
   "metadata": {},
   "outputs": [],
   "source": [
    "# function to calculate PCA manually\n",
    "def manual_pca(input_data, k):\n",
    "    X = input_data.to_numpy()\n",
    "    X_norm = (X - np.mean(X, axis=0)) / np.std(X, axis=0, ddof=1)\n",
    "\n",
    "    X_cov = np.cov(X_norm, rowvar=False)\n",
    "    eigen_values, eigen_vectors = np.linalg.eig(X_cov)\n",
    "    \n",
    "    sorted_indices = np.argsort(-eigen_values)\n",
    "    sorted_eigen_values = eigen_values[sorted_indices]\n",
    "    sorted_eigen_vectors = eigen_vectors[:, sorted_indices]\n",
    "    \n",
    "    new_basis = sorted_eigen_vectors[:, :k]\n",
    "    \n",
    "    X_pca = X_norm @ new_basis\n",
    "    X_reconstructed = X_pca @ new_basis.T\n",
    "    \n",
    "    explained_variance = np.sum(sorted_eigen_values[:k]) / np.sum(eigen_values)\n",
    "    \n",
    "    return X_pca, X_reconstructed, explained_variance, X_norm"
   ]
  },
  {
   "cell_type": "code",
   "execution_count": 23,
   "id": "c1a49d52-466e-476c-bcf1-4d4642cb1cc0",
   "metadata": {},
   "outputs": [],
   "source": [
    "# function to calculate PCA in similar output using pca from sklearn.decomposition\n",
    "def sklearn_pca(input_data,k):\n",
    "    X = input_data.to_numpy()\n",
    "    X_norm = (X - np.mean(X, axis=0)) / np.std(X, axis=0, ddof=1)\n",
    "\n",
    "    pca = PCA(n_components = k)\n",
    "    X_pca = pca.fit_transform(X_norm)\n",
    "    \n",
    "    X_reconstructed = X_pca @ pca.components_\n",
    "\n",
    "    explained_variance = np.sum(pca.explained_variance_ratio_)\n",
    "\n",
    "    return X_pca, X_reconstructed, explained_variance, X_norm"
   ]
  },
  {
   "cell_type": "code",
   "execution_count": 24,
   "id": "333434d7-a7b0-4b23-897e-7a9a26058215",
   "metadata": {},
   "outputs": [],
   "source": [
    "# benchmarking\n",
    "k = 5\n",
    "\n",
    "# Benchmark Manual PCA\n",
    "start_manual = time.time()\n",
    "X_pca_manual, X_reconstructed_manual, exp_var_manual, X_norm_manual = manual_pca(data, k)\n",
    "time_manual = time.time() - start_manual\n",
    "\n",
    "# Benchmark Sklearn PCA\n",
    "start_sklearn = time.time()\n",
    "X_pca_sklearn, X_reconstructed_sklearn, exp_var_sklearn, X_norm_sklearn = sklearn_pca(data, k)\n",
    "time_sklearn = time.time() - start_sklearn\n",
    "\n",
    "# Reconstruction error\n",
    "error_manual = np.linalg.norm(X_norm_manual - X_reconstructed_manual, ord='fro')\n",
    "error_sklearn = np.linalg.norm(X_norm_sklearn - X_reconstructed_sklearn, ord='fro')"
   ]
  },
  {
   "cell_type": "code",
   "execution_count": 25,
   "id": "27f3152e-0bb7-46b5-a39f-593e5af356f7",
   "metadata": {},
   "outputs": [
    {
     "name": "stdout",
     "output_type": "stream",
     "text": [
      "\n",
      "Execution Times:\n",
      "Manual PCA time: 0.005171 seconds\n",
      "Sklearn PCA time: 0.002529 seconds\n"
     ]
    }
   ],
   "source": [
    "print(\"\\nExecution Times:\")\n",
    "print(f\"Manual PCA time: {time_manual:.6f} seconds\")\n",
    "print(f\"Sklearn PCA time: {time_sklearn:.6f} seconds\")"
   ]
  },
  {
   "cell_type": "code",
   "execution_count": 26,
   "id": "adab6af6-67cd-430c-afb5-b6a5063b3348",
   "metadata": {},
   "outputs": [
    {
     "name": "stdout",
     "output_type": "stream",
     "text": [
      "\n",
      "Reconstruction Errors (Frobenius norm):\n",
      "Manual PCA reconstruction error: 3.618004\n",
      "Sklearn PCA reconstruction error: 3.618004\n"
     ]
    }
   ],
   "source": [
    "print(\"\\nReconstruction Errors (Frobenius norm):\")\n",
    "print(f\"Manual PCA reconstruction error: {error_manual:.6f}\")\n",
    "print(f\"Sklearn PCA reconstruction error: {error_sklearn:.6f}\")"
   ]
  },
  {
   "cell_type": "code",
   "execution_count": null,
   "id": "99ac33fe-c59c-47cc-bc28-3b69ae2afa83",
   "metadata": {},
   "outputs": [],
   "source": []
  }
 ],
 "metadata": {
  "kernelspec": {
   "display_name": "Python 3 (ipykernel)",
   "language": "python",
   "name": "python3"
  },
  "language_info": {
   "codemirror_mode": {
    "name": "ipython",
    "version": 3
   },
   "file_extension": ".py",
   "mimetype": "text/x-python",
   "name": "python",
   "nbconvert_exporter": "python",
   "pygments_lexer": "ipython3",
   "version": "3.13.0"
  }
 },
 "nbformat": 4,
 "nbformat_minor": 5
}
